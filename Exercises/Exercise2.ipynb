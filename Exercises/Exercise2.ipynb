{
  "nbformat": 4,
  "nbformat_minor": 0,
  "metadata": {
    "colab": {
      "provenance": []
    },
    "kernelspec": {
      "name": "python3",
      "display_name": "Python 3"
    },
    "language_info": {
      "name": "python"
    }
  },
  "cells": [
    {
      "cell_type": "code",
      "execution_count": null,
      "metadata": {
        "colab": {
          "base_uri": "https://localhost:8080/"
        },
        "id": "F5JzWwa0Unvs",
        "outputId": "c6834950-15fd-4422-8b7b-48a711b7b454"
      },
      "outputs": [
        {
          "output_type": "stream",
          "name": "stdout",
          "text": [
            "Dictionary:  {\"name\": \"John\", \"age\": 30}\n",
            "List:        [\"apple\", \"bananas\"]\n",
            "Tuple:       [\"apple\", \"bananas\"]\n",
            "String:      \"hello\"\n",
            "Integer:     42\n",
            "Float:       31.76\n",
            "True:        true\n",
            "False:       false\n",
            "None:        null\n"
          ]
        }
      ],
      "source": [
        "import json\n",
        "print(\"Dictionary: \", json.dumps({\"name\": \"John\", \"age\": 30}))\n",
        "print(\"List:       \", json.dumps([\"apple\", \"bananas\"]))\n",
        "print(\"Tuple:      \", json.dumps((\"apple\", \"bananas\")))\n",
        "print(\"String:     \", json.dumps(\"hello\"))\n",
        "print(\"Integer:    \", json.dumps(42))\n",
        "print(\"Float:      \", json.dumps(31.76))\n",
        "print(\"True:       \", json.dumps(True))\n",
        "print(\"False:      \", json.dumps(False))\n",
        "print(\"None:       \", json.dumps(None))"
      ]
    },
    {
      "cell_type": "code",
      "source": [
        "import json\n",
        "json_data = '{\"acronym\": \"BLD\", \"name\": \"Boulder Colorado\", \\\n",
        "              \"latitude\": 40.00, \"longitude\": -105.25}'\n",
        "python_obj = json.loads(json_data)\n",
        "print(\"Name:     \", python_obj[\"name\"])\n",
        "print(\"Acronym:  \", python_obj[\"acronym\"])\n",
        "print(\"Latitude: \", python_obj[\"latitude\"])\n",
        "print(\"Latitude: \", python_obj[\"longitude\"])\n",
        "\n",
        "print()\n",
        "print(json.dumps(python_obj, sort_keys=True, indent=4))"
      ],
      "metadata": {
        "colab": {
          "base_uri": "https://localhost:8080/"
        },
        "id": "e2i9zYkiZlU-",
        "outputId": "29d96111-8a44-4bcd-e5e8-1c6907ab9825"
      },
      "execution_count": null,
      "outputs": [
        {
          "output_type": "stream",
          "name": "stdout",
          "text": [
            "Name:      Boulder Colorado\n",
            "Acronym:   BLD\n",
            "Latitude:  40.0\n",
            "Latitude:  -105.25\n",
            "\n",
            "{\n",
            "    \"acronym\": \"BLD\",\n",
            "    \"latitude\": 40.0,\n",
            "    \"longitude\": -105.25,\n",
            "    \"name\": \"Boulder Colorado\"\n",
            "}\n"
          ]
        }
      ]
    },
    {
      "cell_type": "code",
      "source": [
        "import json\n",
        "array = '{\"drinks\": [\"coffee\", \"tea\", \"water\"]}'\n",
        "data = json.loads(array)\n",
        "\n",
        "print(json.dumps(data, sort_keys=True, indent=4))\n",
        "print()\n",
        "for element in data[\"drinks\"]:\n",
        "    print(element)"
      ],
      "metadata": {
        "colab": {
          "base_uri": "https://localhost:8080/"
        },
        "id": "n8tefKKPZzAl",
        "outputId": "9723ddc1-c844-490b-f464-3bb257128ae4"
      },
      "execution_count": null,
      "outputs": [
        {
          "output_type": "stream",
          "name": "stdout",
          "text": [
            "{\n",
            "    \"drinks\": [\n",
            "        \"coffee\",\n",
            "        \"tea\",\n",
            "        \"water\"\n",
            "    ]\n",
            "}\n",
            "\n",
            "coffee\n",
            "tea\n",
            "water\n"
          ]
        }
      ]
    },
    {
      "cell_type": "code",
      "source": [
        "import json\n",
        "json_data = '{\"acronym\": \"BLD\", \"name\": \"Boulder Colorado\", \\\n",
        "              \"latitude\": 40.00, \"longitude\": -105.25}'\n",
        "python_obj = json.loads(json_data)\n",
        "print(\"Name:     \", python_obj[\"name\"])\n",
        "print(\"Acronym:  \", python_obj[\"acronym\"])\n",
        "print(\"Latitude: \", python_obj[\"latitude\"])\n",
        "print(\"Latitude: \", python_obj[\"longitude\"])\n",
        "\n",
        "\n",
        "print(json.dumps(python_obj, sort_keys=True, indent=4))"
      ],
      "metadata": {
        "colab": {
          "base_uri": "https://localhost:8080/"
        },
        "id": "XbbjANg3bA4V",
        "outputId": "0f318fdf-2439-487a-99cd-124c97fb78d8"
      },
      "execution_count": null,
      "outputs": [
        {
          "output_type": "stream",
          "name": "stdout",
          "text": [
            "Name:      Boulder Colorado\n",
            "Acronym:   BLD\n",
            "Latitude:  40.0\n",
            "Latitude:  -105.25\n",
            "{\n",
            "    \"acronym\": \"BLD\",\n",
            "    \"latitude\": 40.0,\n",
            "    \"longitude\": -105.25,\n",
            "    \"name\": \"Boulder Colorado\"\n",
            "}\n"
          ]
        }
      ]
    },
    {
      "cell_type": "code",
      "source": [
        "import json\n",
        "json_string = \"\"\"\n",
        "{\n",
        "    \"researcher\": {\n",
        "        \"name\": \"Ford Prefect\",\n",
        "        \"species\": \"Betelgeusian\",\n",
        "        \"relatives\": [\n",
        "            {\n",
        "                \"name\": \"Zaphod Beeblebrox\",\n",
        "                \"species\": \"Betelgeusian\"\n",
        "            }\n",
        "        ]\n",
        "    }\n",
        "}\n",
        "\"\"\"\n",
        "data = json.loads(json_string)\n",
        "print(json.dumps(data, sort_keys=True, indent=4))"
      ],
      "metadata": {
        "colab": {
          "base_uri": "https://localhost:8080/"
        },
        "id": "9eu9JPPncFwO",
        "outputId": "da524100-3967-44cf-ae3e-e3b753151696"
      },
      "execution_count": null,
      "outputs": [
        {
          "output_type": "stream",
          "name": "stdout",
          "text": [
            "{\n",
            "    \"researcher\": {\n",
            "        \"name\": \"Ford Prefect\",\n",
            "        \"relatives\": [\n",
            "            {\n",
            "                \"name\": \"Zaphod Beeblebrox\",\n",
            "                \"species\": \"Betelgeusian\"\n",
            "            }\n",
            "        ],\n",
            "        \"species\": \"Betelgeusian\"\n",
            "    }\n",
            "}\n"
          ]
        }
      ]
    },
    {
      "cell_type": "code",
      "source": [
        "import json\n",
        "from google.colab import drive\n",
        "drive.mount('/content/drive')\n",
        "\n",
        "x = {\n",
        "  \"name\": \"John\",\n",
        "  \"age\": 30,\n",
        "  \"married\": True,\n",
        "  \"divorced\": False,\n",
        "  \"children\": (\"Ann\",\"Billy\"),\n",
        "  \"pets\": None,\n",
        "  \"cars\": [\n",
        "    {\"model\": \"BMW 230\", \"mpg\": 27.5},\n",
        "    {\"model\": \"Ford Edge\", \"mpg\": 24.1}\n",
        "  ]\n",
        "}\n",
        "\n",
        "with open('/content/drive/My Drive/s1.json', \"w\") as fid:\n",
        "     json.dump(x, fid)"
      ],
      "metadata": {
        "colab": {
          "base_uri": "https://localhost:8080/"
        },
        "id": "y-fPsW02dBDv",
        "outputId": "2afe5595-6b81-4cc6-956b-b1c99cae16a7"
      },
      "execution_count": null,
      "outputs": [
        {
          "output_type": "stream",
          "name": "stdout",
          "text": [
            "Mounted at /content/drive\n"
          ]
        }
      ]
    },
    {
      "cell_type": "code",
      "source": [
        "with open('/content/drive/My Drive/s1.json', \"r\") as fid:\n",
        "     z = json.load(fid)\n",
        "\n",
        "print(z)\n",
        "for key in z:\n",
        "    print(key+\":\\t\", z[key])"
      ],
      "metadata": {
        "colab": {
          "base_uri": "https://localhost:8080/"
        },
        "id": "8SiwBeAEdS2Y",
        "outputId": "06af82d1-6451-4818-941e-39918f113e3d"
      },
      "execution_count": null,
      "outputs": [
        {
          "output_type": "stream",
          "name": "stdout",
          "text": [
            "{'name': 'John', 'age': 30, 'married': True, 'divorced': False, 'children': ['Ann', 'Billy'], 'pets': None, 'cars': [{'model': 'BMW 230', 'mpg': 27.5}, {'model': 'Ford Edge', 'mpg': 24.1}]}\n",
            "name:\t John\n",
            "age:\t 30\n",
            "married:\t True\n",
            "divorced:\t False\n",
            "children:\t ['Ann', 'Billy']\n",
            "pets:\t None\n",
            "cars:\t [{'model': 'BMW 230', 'mpg': 27.5}, {'model': 'Ford Edge', 'mpg': 24.1}]\n"
          ]
        }
      ]
    },
    {
      "cell_type": "code",
      "source": [
        "import json\n",
        "x = {\n",
        "  \"name\": \"John\",\n",
        "  \"age\": 30,\n",
        "  \"married\": True,\n",
        "  \"divorced\": False,\n",
        "  \"children\": (\"Ann\",\"Billy\"),\n",
        "  \"pets\": None,\n",
        "  \"cars\": [\n",
        "    {\"model\": \"BMW 230\", \"mpg\": 27.5},\n",
        "    {\"model\": \"Ford Edge\", \"mpg\": 24.1}\n",
        "  ]\n",
        "}\n",
        "print(\"Python Object: \\n\\t\", x)\n",
        "\n",
        "for key in x:\n",
        "    print(key+\":\\t\", x[key])\n",
        "\n",
        "x_js = json.dumps(x)\n",
        "print(\"\\nCorresponding JSON Object: \\n\\t\", x_js)\n",
        "y = json.loads(x_js)\n",
        "print(\"\\nGoing back to Python: \\n\")\n",
        "for key in y:\n",
        "    print(key+\":\\t\", y[key])"
      ],
      "metadata": {
        "colab": {
          "base_uri": "https://localhost:8080/"
        },
        "id": "5s3318aoeAy8",
        "outputId": "9f429b32-78f4-450f-bce9-d974219af29b"
      },
      "execution_count": null,
      "outputs": [
        {
          "output_type": "stream",
          "name": "stdout",
          "text": [
            "Python Object: \n",
            "\t {'name': 'John', 'age': 30, 'married': True, 'divorced': False, 'children': ('Ann', 'Billy'), 'pets': None, 'cars': [{'model': 'BMW 230', 'mpg': 27.5}, {'model': 'Ford Edge', 'mpg': 24.1}]}\n",
            "name:\t John\n",
            "age:\t 30\n",
            "married:\t True\n",
            "divorced:\t False\n",
            "children:\t ('Ann', 'Billy')\n",
            "pets:\t None\n",
            "cars:\t [{'model': 'BMW 230', 'mpg': 27.5}, {'model': 'Ford Edge', 'mpg': 24.1}]\n",
            "\n",
            "Corresponding JSON Object: \n",
            "\t {\"name\": \"John\", \"age\": 30, \"married\": true, \"divorced\": false, \"children\": [\"Ann\", \"Billy\"], \"pets\": null, \"cars\": [{\"model\": \"BMW 230\", \"mpg\": 27.5}, {\"model\": \"Ford Edge\", \"mpg\": 24.1}]}\n",
            "\n",
            "Going back to Python: \n",
            "\n",
            "name:\t John\n",
            "age:\t 30\n",
            "married:\t True\n",
            "divorced:\t False\n",
            "children:\t ['Ann', 'Billy']\n",
            "pets:\t None\n",
            "cars:\t [{'model': 'BMW 230', 'mpg': 27.5}, {'model': 'Ford Edge', 'mpg': 24.1}]\n"
          ]
        }
      ]
    },
    {
      "cell_type": "code",
      "source": [
        "%%writefile apod.json\n",
        "{\n",
        "    \"media_type\": \"image\",\n",
        "    \"copyright\": \"Yin Hao\",\n",
        "    \"date\": \"2018-10-30\",\n",
        "    \"url\": \"https://apod.nasa.gov/apod/image/1810/Orionids_Hao_960.jpg\",\n",
        "    \"explanation\": \"Meteors have been shooting out from the constellation of Orion. This was expected, as October is the time of year for the Orionids Meteor Shower.  Pictured here, over two dozen meteors were caught in successively added exposures last October over Wulan Hada volcano in Inner Mongolia, China. The featured image shows multiple meteor streaks that can all be connected to a single small region on the sky called the radiant, here visible just above and to the left of the belt of Orion, The Orionids meteors started as sand sized bits expelled from Comet Halley during one of its trips to the inner Solar System. Comet Halley is actually responsible for two known meteor showers, the other known as the Eta Aquarids and visible every May. An Orionids image featured on APOD one year ago today from the same location shows the same car. Next month, the Leonids Meteor Shower from Comet Tempel-Tuttle should also result in some bright meteor streaks. Follow APOD on: Facebook, Instagram, Reddit, or Twitter\",\n",
        "    \"hdurl\": \"https://apod.nasa.gov/apod/image/1810/Orionids_Hao_2324.jpg\",\n",
        "    \"title\": \"Orionids Meteors over Inner Mongolia\",\n",
        "    \"service_version\": \"v1\"\n",
        "}\n"
      ],
      "metadata": {
        "colab": {
          "base_uri": "https://localhost:8080/"
        },
        "id": "_bpxR-EZkGXj",
        "outputId": "e092157c-da6d-42e7-a0c4-9571cb87e5ab"
      },
      "execution_count": null,
      "outputs": [
        {
          "output_type": "stream",
          "name": "stdout",
          "text": [
            "Writing apod.json\n"
          ]
        }
      ]
    },
    {
      "cell_type": "code",
      "source": [
        "# Read the file\n",
        "with open(\"apod.json\", \"r\") as f:\n",
        "    json_text = f.read()\n",
        "# Decode the JSON string into a Python dictionary.\n",
        "apod_dict = json.loads(json_text)\n",
        "print(apod_dict['explanation'])\n",
        "# Encode the Python dictionary into a JSON string.\n",
        "new_json_string = json.dumps(apod_dict, indent=6)\n",
        "print(new_json_string)\n",
        "new_json_string = json.dumps(apod_dict, indent=6, sort_keys=True)\n",
        "print(new_json_string)"
      ],
      "metadata": {
        "colab": {
          "base_uri": "https://localhost:8080/"
        },
        "id": "DzMKxZlKkNaJ",
        "outputId": "a925ec6b-3cb3-40f1-fc64-38f79c2df92d"
      },
      "execution_count": null,
      "outputs": [
        {
          "output_type": "stream",
          "name": "stdout",
          "text": [
            "Meteors have been shooting out from the constellation of Orion. This was expected, as October is the time of year for the Orionids Meteor Shower.  Pictured here, over two dozen meteors were caught in successively added exposures last October over Wulan Hada volcano in Inner Mongolia, China. The featured image shows multiple meteor streaks that can all be connected to a single small region on the sky called the radiant, here visible just above and to the left of the belt of Orion, The Orionids meteors started as sand sized bits expelled from Comet Halley during one of its trips to the inner Solar System. Comet Halley is actually responsible for two known meteor showers, the other known as the Eta Aquarids and visible every May. An Orionids image featured on APOD one year ago today from the same location shows the same car. Next month, the Leonids Meteor Shower from Comet Tempel-Tuttle should also result in some bright meteor streaks. Follow APOD on: Facebook, Instagram, Reddit, or Twitter\n",
            "{\n",
            "      \"media_type\": \"image\",\n",
            "      \"copyright\": \"Yin Hao\",\n",
            "      \"date\": \"2018-10-30\",\n",
            "      \"url\": \"https://apod.nasa.gov/apod/image/1810/Orionids_Hao_960.jpg\",\n",
            "      \"explanation\": \"Meteors have been shooting out from the constellation of Orion. This was expected, as October is the time of year for the Orionids Meteor Shower.  Pictured here, over two dozen meteors were caught in successively added exposures last October over Wulan Hada volcano in Inner Mongolia, China. The featured image shows multiple meteor streaks that can all be connected to a single small region on the sky called the radiant, here visible just above and to the left of the belt of Orion, The Orionids meteors started as sand sized bits expelled from Comet Halley during one of its trips to the inner Solar System. Comet Halley is actually responsible for two known meteor showers, the other known as the Eta Aquarids and visible every May. An Orionids image featured on APOD one year ago today from the same location shows the same car. Next month, the Leonids Meteor Shower from Comet Tempel-Tuttle should also result in some bright meteor streaks. Follow APOD on: Facebook, Instagram, Reddit, or Twitter\",\n",
            "      \"hdurl\": \"https://apod.nasa.gov/apod/image/1810/Orionids_Hao_2324.jpg\",\n",
            "      \"title\": \"Orionids Meteors over Inner Mongolia\",\n",
            "      \"service_version\": \"v1\"\n",
            "}\n",
            "{\n",
            "      \"copyright\": \"Yin Hao\",\n",
            "      \"date\": \"2018-10-30\",\n",
            "      \"explanation\": \"Meteors have been shooting out from the constellation of Orion. This was expected, as October is the time of year for the Orionids Meteor Shower.  Pictured here, over two dozen meteors were caught in successively added exposures last October over Wulan Hada volcano in Inner Mongolia, China. The featured image shows multiple meteor streaks that can all be connected to a single small region on the sky called the radiant, here visible just above and to the left of the belt of Orion, The Orionids meteors started as sand sized bits expelled from Comet Halley during one of its trips to the inner Solar System. Comet Halley is actually responsible for two known meteor showers, the other known as the Eta Aquarids and visible every May. An Orionids image featured on APOD one year ago today from the same location shows the same car. Next month, the Leonids Meteor Shower from Comet Tempel-Tuttle should also result in some bright meteor streaks. Follow APOD on: Facebook, Instagram, Reddit, or Twitter\",\n",
            "      \"hdurl\": \"https://apod.nasa.gov/apod/image/1810/Orionids_Hao_2324.jpg\",\n",
            "      \"media_type\": \"image\",\n",
            "      \"service_version\": \"v1\",\n",
            "      \"title\": \"Orionids Meteors over Inner Mongolia\",\n",
            "      \"url\": \"https://apod.nasa.gov/apod/image/1810/Orionids_Hao_960.jpg\"\n",
            "}\n"
          ]
        }
      ]
    },
    {
      "cell_type": "code",
      "source": [
        "import json\n",
        "\n",
        "jsonData = '{\"ID\":\"123\", \"Name\": \"Hamza\"}'\n",
        "\n",
        "data = json.loads(jsonData)\n",
        "\n",
        "newData = {\"DOB\": \"22-10-2001\"}\n",
        "\n",
        "data.update(newData)\n",
        "\n",
        "print(data)"
      ],
      "metadata": {
        "colab": {
          "base_uri": "https://localhost:8080/"
        },
        "id": "a9TWDsIikR5C",
        "outputId": "0a1d1175-e0c0-48f1-8f56-926861526736"
      },
      "execution_count": null,
      "outputs": [
        {
          "output_type": "stream",
          "name": "stdout",
          "text": [
            "{'ID': '123', 'Name': 'Hamza', 'DOB': '22-10-2001'}\n"
          ]
        }
      ]
    },
    {
      "cell_type": "code",
      "source": [
        "import json\n",
        "\n",
        "studentsList = []\n",
        "print(\"Started Reading JSON file which contains multiple JSON document\")\n",
        "with open('students1.txt') as f:\n",
        "    for jsonObj in f:\n",
        "        studentDict = json.loads(jsonObj)\n",
        "        studentsList.append(studentDict)\n",
        "\n",
        "print(\"Printing each JSON Decoded Object\")\n",
        "for student in studentsList:\n",
        "    print(student[\"id\"], student[\"name\"], student[\"class\"], student[\"email\"])"
      ],
      "metadata": {
        "id": "h7FuYmytlCB_"
      },
      "execution_count": null,
      "outputs": []
    }
  ]
}