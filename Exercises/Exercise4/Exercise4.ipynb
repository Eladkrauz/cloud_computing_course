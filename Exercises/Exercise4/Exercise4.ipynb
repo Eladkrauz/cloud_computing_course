{
  "nbformat": 4,
  "nbformat_minor": 0,
  "metadata": {
    "colab": {
      "provenance": [],
      "toc_visible": true
    },
    "kernelspec": {
      "name": "python3",
      "display_name": "Python 3"
    },
    "language_info": {
      "name": "python"
    },
    "widgets": {
      "application/vnd.jupyter.widget-state+json": {
        "0f4906a6081146b6a02a93751a2b585e": {
          "model_module": "@jupyter-widgets/controls",
          "model_name": "DropdownModel",
          "model_module_version": "1.5.0",
          "state": {
            "_dom_classes": [],
            "_model_module": "@jupyter-widgets/controls",
            "_model_module_version": "1.5.0",
            "_model_name": "DropdownModel",
            "_options_labels": [
              "User"
            ],
            "_view_count": null,
            "_view_module": "@jupyter-widgets/controls",
            "_view_module_version": "1.5.0",
            "_view_name": "DropdownView",
            "description": "Filter by:",
            "description_tooltip": null,
            "disabled": false,
            "index": 0,
            "layout": "IPY_MODEL_c05b73c3eaf740adb47273922bba1cf6",
            "style": "IPY_MODEL_76409fc40530473d97ae3bec3793ddc6"
          }
        },
        "c05b73c3eaf740adb47273922bba1cf6": {
          "model_module": "@jupyter-widgets/base",
          "model_name": "LayoutModel",
          "model_module_version": "1.2.0",
          "state": {
            "_model_module": "@jupyter-widgets/base",
            "_model_module_version": "1.2.0",
            "_model_name": "LayoutModel",
            "_view_count": null,
            "_view_module": "@jupyter-widgets/base",
            "_view_module_version": "1.2.0",
            "_view_name": "LayoutView",
            "align_content": null,
            "align_items": null,
            "align_self": null,
            "border": null,
            "bottom": null,
            "display": null,
            "flex": null,
            "flex_flow": null,
            "grid_area": null,
            "grid_auto_columns": null,
            "grid_auto_flow": null,
            "grid_auto_rows": null,
            "grid_column": null,
            "grid_gap": null,
            "grid_row": null,
            "grid_template_areas": null,
            "grid_template_columns": null,
            "grid_template_rows": null,
            "height": null,
            "justify_content": null,
            "justify_items": null,
            "left": null,
            "margin": null,
            "max_height": null,
            "max_width": null,
            "min_height": null,
            "min_width": null,
            "object_fit": null,
            "object_position": null,
            "order": null,
            "overflow": null,
            "overflow_x": null,
            "overflow_y": null,
            "padding": null,
            "right": null,
            "top": null,
            "visibility": null,
            "width": null
          }
        },
        "76409fc40530473d97ae3bec3793ddc6": {
          "model_module": "@jupyter-widgets/controls",
          "model_name": "DescriptionStyleModel",
          "model_module_version": "1.5.0",
          "state": {
            "_model_module": "@jupyter-widgets/controls",
            "_model_module_version": "1.5.0",
            "_model_name": "DescriptionStyleModel",
            "_view_count": null,
            "_view_module": "@jupyter-widgets/base",
            "_view_module_version": "1.2.0",
            "_view_name": "StyleView",
            "description_width": ""
          }
        },
        "8061eca971d2439db5877d7272110821": {
          "model_module": "@jupyter-widgets/controls",
          "model_name": "DropdownModel",
          "model_module_version": "1.5.0",
          "state": {
            "_dom_classes": [],
            "_model_module": "@jupyter-widgets/controls",
            "_model_module_version": "1.5.0",
            "_model_name": "DropdownModel",
            "_options_labels": [
              "StudentA1",
              "StudentA2"
            ],
            "_view_count": null,
            "_view_module": "@jupyter-widgets/controls",
            "_view_module_version": "1.5.0",
            "_view_name": "DropdownView",
            "description": "Value:",
            "description_tooltip": null,
            "disabled": false,
            "index": 0,
            "layout": "IPY_MODEL_cdf395e9515e43df8a552f4871762cb3",
            "style": "IPY_MODEL_2ccfe597469c40c9848466ebf941cc0b"
          }
        },
        "cdf395e9515e43df8a552f4871762cb3": {
          "model_module": "@jupyter-widgets/base",
          "model_name": "LayoutModel",
          "model_module_version": "1.2.0",
          "state": {
            "_model_module": "@jupyter-widgets/base",
            "_model_module_version": "1.2.0",
            "_model_name": "LayoutModel",
            "_view_count": null,
            "_view_module": "@jupyter-widgets/base",
            "_view_module_version": "1.2.0",
            "_view_name": "LayoutView",
            "align_content": null,
            "align_items": null,
            "align_self": null,
            "border": null,
            "bottom": null,
            "display": null,
            "flex": null,
            "flex_flow": null,
            "grid_area": null,
            "grid_auto_columns": null,
            "grid_auto_flow": null,
            "grid_auto_rows": null,
            "grid_column": null,
            "grid_gap": null,
            "grid_row": null,
            "grid_template_areas": null,
            "grid_template_columns": null,
            "grid_template_rows": null,
            "height": null,
            "justify_content": null,
            "justify_items": null,
            "left": null,
            "margin": null,
            "max_height": null,
            "max_width": null,
            "min_height": null,
            "min_width": null,
            "object_fit": null,
            "object_position": null,
            "order": null,
            "overflow": null,
            "overflow_x": null,
            "overflow_y": null,
            "padding": null,
            "right": null,
            "top": null,
            "visibility": null,
            "width": null
          }
        },
        "2ccfe597469c40c9848466ebf941cc0b": {
          "model_module": "@jupyter-widgets/controls",
          "model_name": "DescriptionStyleModel",
          "model_module_version": "1.5.0",
          "state": {
            "_model_module": "@jupyter-widgets/controls",
            "_model_module_version": "1.5.0",
            "_model_name": "DescriptionStyleModel",
            "_view_count": null,
            "_view_module": "@jupyter-widgets/base",
            "_view_module_version": "1.2.0",
            "_view_name": "StyleView",
            "description_width": ""
          }
        },
        "cdf2fa1ba8824b7c8ec9af0e82e6e93f": {
          "model_module": "@jupyter-widgets/controls",
          "model_name": "ButtonModel",
          "model_module_version": "1.5.0",
          "state": {
            "_dom_classes": [],
            "_model_module": "@jupyter-widgets/controls",
            "_model_module_version": "1.5.0",
            "_model_name": "ButtonModel",
            "_view_count": null,
            "_view_module": "@jupyter-widgets/controls",
            "_view_module_version": "1.5.0",
            "_view_name": "ButtonView",
            "button_style": "",
            "description": "Update Graph",
            "disabled": false,
            "icon": "",
            "layout": "IPY_MODEL_3f6a18add6794ad5bf0e7e3a6c5d316d",
            "style": "IPY_MODEL_ea34e0606ab74c89b418f3220b8ca61d",
            "tooltip": ""
          }
        },
        "3f6a18add6794ad5bf0e7e3a6c5d316d": {
          "model_module": "@jupyter-widgets/base",
          "model_name": "LayoutModel",
          "model_module_version": "1.2.0",
          "state": {
            "_model_module": "@jupyter-widgets/base",
            "_model_module_version": "1.2.0",
            "_model_name": "LayoutModel",
            "_view_count": null,
            "_view_module": "@jupyter-widgets/base",
            "_view_module_version": "1.2.0",
            "_view_name": "LayoutView",
            "align_content": null,
            "align_items": null,
            "align_self": null,
            "border": null,
            "bottom": null,
            "display": null,
            "flex": null,
            "flex_flow": null,
            "grid_area": null,
            "grid_auto_columns": null,
            "grid_auto_flow": null,
            "grid_auto_rows": null,
            "grid_column": null,
            "grid_gap": null,
            "grid_row": null,
            "grid_template_areas": null,
            "grid_template_columns": null,
            "grid_template_rows": null,
            "height": null,
            "justify_content": null,
            "justify_items": null,
            "left": null,
            "margin": null,
            "max_height": null,
            "max_width": null,
            "min_height": null,
            "min_width": null,
            "object_fit": null,
            "object_position": null,
            "order": null,
            "overflow": null,
            "overflow_x": null,
            "overflow_y": null,
            "padding": null,
            "right": null,
            "top": null,
            "visibility": null,
            "width": null
          }
        },
        "ea34e0606ab74c89b418f3220b8ca61d": {
          "model_module": "@jupyter-widgets/controls",
          "model_name": "ButtonStyleModel",
          "model_module_version": "1.5.0",
          "state": {
            "_model_module": "@jupyter-widgets/controls",
            "_model_module_version": "1.5.0",
            "_model_name": "ButtonStyleModel",
            "_view_count": null,
            "_view_module": "@jupyter-widgets/base",
            "_view_module_version": "1.2.0",
            "_view_name": "StyleView",
            "button_color": null,
            "font_weight": ""
          }
        },
        "14c57bded81f45759629a3f4f12db835": {
          "model_module": "@jupyter-widgets/output",
          "model_name": "OutputModel",
          "model_module_version": "1.0.0",
          "state": {
            "_dom_classes": [],
            "_model_module": "@jupyter-widgets/output",
            "_model_module_version": "1.0.0",
            "_model_name": "OutputModel",
            "_view_count": null,
            "_view_module": "@jupyter-widgets/output",
            "_view_module_version": "1.0.0",
            "_view_name": "OutputView",
            "layout": "IPY_MODEL_6effc545ca694ac28006cd9217e080c8",
            "msg_id": "",
            "outputs": []
          }
        },
        "6effc545ca694ac28006cd9217e080c8": {
          "model_module": "@jupyter-widgets/base",
          "model_name": "LayoutModel",
          "model_module_version": "1.2.0",
          "state": {
            "_model_module": "@jupyter-widgets/base",
            "_model_module_version": "1.2.0",
            "_model_name": "LayoutModel",
            "_view_count": null,
            "_view_module": "@jupyter-widgets/base",
            "_view_module_version": "1.2.0",
            "_view_name": "LayoutView",
            "align_content": null,
            "align_items": null,
            "align_self": null,
            "border": null,
            "bottom": null,
            "display": null,
            "flex": null,
            "flex_flow": null,
            "grid_area": null,
            "grid_auto_columns": null,
            "grid_auto_flow": null,
            "grid_auto_rows": null,
            "grid_column": null,
            "grid_gap": null,
            "grid_row": null,
            "grid_template_areas": null,
            "grid_template_columns": null,
            "grid_template_rows": null,
            "height": null,
            "justify_content": null,
            "justify_items": null,
            "left": null,
            "margin": null,
            "max_height": null,
            "max_width": null,
            "min_height": null,
            "min_width": null,
            "object_fit": null,
            "object_position": null,
            "order": null,
            "overflow": null,
            "overflow_x": null,
            "overflow_y": null,
            "padding": null,
            "right": null,
            "top": null,
            "visibility": null,
            "width": null
          }
        }
      }
    }
  },
  "cells": [
    {
      "cell_type": "code",
      "execution_count": null,
      "metadata": {
        "id": "WA4gV6bXW45j",
        "colab": {
          "base_uri": "https://localhost:8080/"
        },
        "outputId": "88305093-4fe0-452f-875b-777bffc7732b"
      },
      "outputs": [
        {
          "output_type": "stream",
          "name": "stdout",
          "text": [
            "Requirement already satisfied: matplotlib in /usr/local/lib/python3.10/dist-packages (3.7.1)\n",
            "Requirement already satisfied: pillow in /usr/local/lib/python3.10/dist-packages (9.4.0)\n",
            "Requirement already satisfied: contourpy>=1.0.1 in /usr/local/lib/python3.10/dist-packages (from matplotlib) (1.2.1)\n",
            "Requirement already satisfied: cycler>=0.10 in /usr/local/lib/python3.10/dist-packages (from matplotlib) (0.12.1)\n",
            "Requirement already satisfied: fonttools>=4.22.0 in /usr/local/lib/python3.10/dist-packages (from matplotlib) (4.53.1)\n",
            "Requirement already satisfied: kiwisolver>=1.0.1 in /usr/local/lib/python3.10/dist-packages (from matplotlib) (1.4.5)\n",
            "Requirement already satisfied: numpy>=1.20 in /usr/local/lib/python3.10/dist-packages (from matplotlib) (1.25.2)\n",
            "Requirement already satisfied: packaging>=20.0 in /usr/local/lib/python3.10/dist-packages (from matplotlib) (24.1)\n",
            "Requirement already satisfied: pyparsing>=2.3.1 in /usr/local/lib/python3.10/dist-packages (from matplotlib) (3.1.2)\n",
            "Requirement already satisfied: python-dateutil>=2.7 in /usr/local/lib/python3.10/dist-packages (from matplotlib) (2.8.2)\n",
            "Requirement already satisfied: six>=1.5 in /usr/local/lib/python3.10/dist-packages (from python-dateutil>=2.7->matplotlib) (1.16.0)\n"
          ]
        }
      ],
      "source": [
        "!pip install matplotlib pillow"
      ]
    },
    {
      "cell_type": "code",
      "source": [
        "from google.colab import drive\n",
        "drive.mount('/content/drive')"
      ],
      "metadata": {
        "colab": {
          "base_uri": "https://localhost:8080/"
        },
        "id": "uyRj8lJpfjXw",
        "outputId": "3cb8ac30-8b0c-4855-c370-60a43623e4cb"
      },
      "execution_count": null,
      "outputs": [
        {
          "output_type": "stream",
          "name": "stdout",
          "text": [
            "Mounted at /content/drive\n"
          ]
        }
      ]
    },
    {
      "cell_type": "code",
      "source": [
        "import json\n",
        "import pandas as pd\n",
        "from google.colab import drive\n",
        "drive.mount('/content/drive')\n",
        "# Path to the JSON file in Google Drive\n",
        "file_path = '/content/drive/My Drive/teamA.json'\n",
        "\n",
        "# Read the JSON data\n",
        "with open(file_path, 'r') as f:\n",
        "    data = json.load(f)\n",
        "\n",
        "# Convert the data to a DataFrame\n",
        "df2 = pd.DataFrame(data)\n",
        "\n",
        "# Print the DataFrame to verify the content\n",
        "print(df2.to_string())"
      ],
      "metadata": {
        "colab": {
          "base_uri": "https://localhost:8080/"
        },
        "id": "-dwKZNT6gCZf",
        "outputId": "6a036d55-0ca4-483f-c805-1ea1256c9ddf"
      },
      "execution_count": null,
      "outputs": [
        {
          "output_type": "stream",
          "name": "stdout",
          "text": [
            "                   Time                  Document         Tab       User                                          Description\n",
            "0   2022-11-09 11:43:21                     Start         N/A  StudentA1                                        Open document\n",
            "1   2022-11-09 11:43:21                     Start  Assembly 1  StudentA1  Tab Assembly 1 of type ASSEMBLY opened by StudentA1\n",
            "2   2022-11-09 11:43:20  rotation to displacement         N/A  StudentA2                                  Start assembly drag\n",
            "3   2022-11-09 11:43:15  rotation to displacement  Assembly 1  StudentA2                              Delete assembly feature\n",
            "4   2022-11-09 11:43:15  rotation to displacement  Assembly 1  StudentA2                                    Delete : Slider 1\n",
            "5   2022-11-09 11:43:14  rotation to displacement  Assembly 1  StudentA2                                    Delete : Slider 2\n",
            "6   2022-11-09 11:43:14  rotation to displacement  Assembly 1  StudentA2                              Delete assembly feature\n",
            "7   2022-11-09 11:43:03  rotation to displacement         N/A  StudentA2                                  Start assembly drag\n",
            "8   2022-11-09 11:43:03  rotation to displacement         N/A  StudentA2                                   Stop assembly drag\n",
            "9   2022-11-09 11:43:02  rotation to displacement  Assembly 1  StudentA2                                      Drag : instance\n",
            "10  2022-11-09 11:43:02  rotation to displacement         N/A  StudentA2                                   Stop assembly drag\n",
            "11  2022-11-09 11:42:59  rotation to displacement         N/A  StudentA2                                  Start assembly drag\n",
            "12  2022-11-09 11:42:57  rotation to displacement  Assembly 1  StudentA2                              Delete assembly feature\n",
            "13  2022-11-09 11:42:57  rotation to displacement  Assembly 1  StudentA2                                  Delete : Revolute 1\n",
            "14  2022-11-09 11:42:56  rotation to displacement  Assembly 1  StudentA2                              Delete assembly feature\n",
            "15  2022-11-09 11:42:56  rotation to displacement  Assembly 1  StudentA2                                  Delete : Revolute 2\n",
            "16  2022-11-09 11:42:53  rotation to displacement  Assembly 1  StudentA2                                  Delete : Fastened 1\n",
            "17  2022-11-09 11:42:53  rotation to displacement  Assembly 1  StudentA2                              Delete assembly feature\n",
            "18  2022-11-09 11:42:52  rotation to displacement  Assembly 1  StudentA2                              Delete assembly feature\n",
            "19  2022-11-09 11:42:52  rotation to displacement  Assembly 1  StudentA2                                  Delete : Fastened 2\n",
            "20  2022-11-09 11:42:49  rotation to displacement         N/A  StudentA2                                   Stop assembly drag\n",
            "21  2022-11-09 11:42:49  rotation to displacement  Assembly 1  StudentA2                                      Drag : instance\n",
            "22  2022-11-09 11:42:48  rotation to displacement         N/A  StudentA2                                  Start assembly drag\n",
            "23  2022-11-09 11:42:43  rotation to displacement  Assembly 1  StudentA2                         Change Element Timings Event\n",
            "24  2022-11-09 11:42:42  rotation to displacement  Assembly 1  StudentA2  Tab Assembly 1 of type ASSEMBLY opened by StudentA2\n",
            "25  2022-11-09 11:42:41  rotation to displacement         N/A  StudentA2                                        Open document\n"
          ]
        }
      ]
    },
    {
      "cell_type": "code",
      "source": [
        "print(\"lee\")\n"
      ],
      "metadata": {
        "colab": {
          "base_uri": "https://localhost:8080/"
        },
        "id": "tBbr98_Lj6Sb",
        "outputId": "e03cb224-aa88-4d22-98a0-4032a279b2f2"
      },
      "execution_count": null,
      "outputs": [
        {
          "output_type": "stream",
          "name": "stdout",
          "text": [
            "lee\n"
          ]
        }
      ]
    },
    {
      "cell_type": "code",
      "source": [
        "import matplotlib.pyplot as plt\n",
        "from IPython.display import display\n",
        "from ipywidgets import widgets\n",
        "\n",
        "# Function to update the graph based on the selected filter\n",
        "def update_graph(filter_by, filter_value):\n",
        "    plt.figure(figsize=(10, 6))\n",
        "    if filter_by == 'User':\n",
        "        filtered_df = df2[df2[filter_by] == filter_value]\n",
        "        plt.bar(filtered_df['Description'], filtered_df['Time'])\n",
        "        plt.xlabel('Description')\n",
        "        plt.ylabel('Time')\n",
        "        plt.title(f'Actions by user: {filter_value}')\n",
        "    plt.show()\n",
        "\n",
        "# Create widgets for selecting filter\n",
        "filter_by_widget = widgets.Dropdown(options=['User'], description='Filter by:')\n",
        "filter_value_widget = widgets.Dropdown(description='Value:')\n",
        "\n",
        "# Update filter values based on selected filter\n",
        "def update_filter_values(*args):\n",
        "    filter_by = filter_by_widget.value\n",
        "    filter_value_widget.options = df2[filter_by].unique().tolist()\n",
        "\n",
        "filter_by_widget.observe(update_filter_values, 'value')\n",
        "\n",
        "# Create a button to update the graph\n",
        "button = widgets.Button(description='Update Graph')\n",
        "output = widgets.Output()\n",
        "\n",
        "def on_button_clicked(b):\n",
        "    with output:\n",
        "        output.clear_output()\n",
        "        update_graph(filter_by_widget.value, filter_value_widget.value)\n",
        "\n",
        "button.on_click(on_button_clicked)\n",
        "\n",
        "# Display the widgets and output\n",
        "display(filter_by_widget, filter_value_widget, button, output)\n",
        "\n",
        "# Initial update for filter values\n",
        "update_filter_values()"
      ],
      "metadata": {
        "colab": {
          "base_uri": "https://localhost:8080/",
          "height": 111,
          "referenced_widgets": [
            "0f4906a6081146b6a02a93751a2b585e",
            "c05b73c3eaf740adb47273922bba1cf6",
            "76409fc40530473d97ae3bec3793ddc6",
            "8061eca971d2439db5877d7272110821",
            "cdf395e9515e43df8a552f4871762cb3",
            "2ccfe597469c40c9848466ebf941cc0b",
            "cdf2fa1ba8824b7c8ec9af0e82e6e93f",
            "3f6a18add6794ad5bf0e7e3a6c5d316d",
            "ea34e0606ab74c89b418f3220b8ca61d",
            "14c57bded81f45759629a3f4f12db835",
            "6effc545ca694ac28006cd9217e080c8"
          ]
        },
        "id": "96wnU0_VibqY",
        "outputId": "48618ebe-b79c-4944-8af3-1f550aaa9b69"
      },
      "execution_count": null,
      "outputs": [
        {
          "output_type": "display_data",
          "data": {
            "text/plain": [
              "Dropdown(description='Filter by:', options=('User',), value='User')"
            ],
            "application/vnd.jupyter.widget-view+json": {
              "version_major": 2,
              "version_minor": 0,
              "model_id": "0f4906a6081146b6a02a93751a2b585e"
            }
          },
          "metadata": {}
        },
        {
          "output_type": "display_data",
          "data": {
            "text/plain": [
              "Dropdown(description='Value:', options=(), value=None)"
            ],
            "application/vnd.jupyter.widget-view+json": {
              "version_major": 2,
              "version_minor": 0,
              "model_id": "8061eca971d2439db5877d7272110821"
            }
          },
          "metadata": {}
        },
        {
          "output_type": "display_data",
          "data": {
            "text/plain": [
              "Button(description='Update Graph', style=ButtonStyle())"
            ],
            "application/vnd.jupyter.widget-view+json": {
              "version_major": 2,
              "version_minor": 0,
              "model_id": "cdf2fa1ba8824b7c8ec9af0e82e6e93f"
            }
          },
          "metadata": {}
        },
        {
          "output_type": "display_data",
          "data": {
            "text/plain": [
              "Output()"
            ],
            "application/vnd.jupyter.widget-view+json": {
              "version_major": 2,
              "version_minor": 0,
              "model_id": "14c57bded81f45759629a3f4f12db835"
            }
          },
          "metadata": {}
        }
      ]
    }
  ]
}
