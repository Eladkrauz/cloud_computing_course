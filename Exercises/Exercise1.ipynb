{
  "nbformat": 4,
  "nbformat_minor": 0,
  "metadata": {
    "colab": {
      "provenance": []
    },
    "kernelspec": {
      "name": "python3",
      "display_name": "Python 3"
    },
    "language_info": {
      "name": "python"
    },
    "widgets": {
      "application/vnd.jupyter.widget-state+json": {
        "6d4973c2c41a423292f14f5f859d6217": {
          "model_module": "@jupyter-widgets/controls",
          "model_name": "ButtonModel",
          "model_module_version": "1.5.0",
          "state": {
            "_dom_classes": [],
            "_model_module": "@jupyter-widgets/controls",
            "_model_module_version": "1.5.0",
            "_model_name": "ButtonModel",
            "_view_count": null,
            "_view_module": "@jupyter-widgets/controls",
            "_view_module_version": "1.5.0",
            "_view_name": "ButtonView",
            "button_style": "",
            "description": "Click Me!",
            "disabled": false,
            "icon": "",
            "layout": "IPY_MODEL_f40ff88eb5ab4a55b98e66a216f6255c",
            "style": "IPY_MODEL_2b00f02d65dd47cf823309f3825af811",
            "tooltip": ""
          }
        },
        "f40ff88eb5ab4a55b98e66a216f6255c": {
          "model_module": "@jupyter-widgets/base",
          "model_name": "LayoutModel",
          "model_module_version": "1.2.0",
          "state": {
            "_model_module": "@jupyter-widgets/base",
            "_model_module_version": "1.2.0",
            "_model_name": "LayoutModel",
            "_view_count": null,
            "_view_module": "@jupyter-widgets/base",
            "_view_module_version": "1.2.0",
            "_view_name": "LayoutView",
            "align_content": null,
            "align_items": null,
            "align_self": null,
            "border": null,
            "bottom": null,
            "display": null,
            "flex": null,
            "flex_flow": null,
            "grid_area": null,
            "grid_auto_columns": null,
            "grid_auto_flow": null,
            "grid_auto_rows": null,
            "grid_column": null,
            "grid_gap": null,
            "grid_row": null,
            "grid_template_areas": null,
            "grid_template_columns": null,
            "grid_template_rows": null,
            "height": null,
            "justify_content": null,
            "justify_items": null,
            "left": null,
            "margin": null,
            "max_height": null,
            "max_width": null,
            "min_height": null,
            "min_width": null,
            "object_fit": null,
            "object_position": null,
            "order": null,
            "overflow": null,
            "overflow_x": null,
            "overflow_y": null,
            "padding": null,
            "right": null,
            "top": null,
            "visibility": null,
            "width": null
          }
        },
        "2b00f02d65dd47cf823309f3825af811": {
          "model_module": "@jupyter-widgets/controls",
          "model_name": "ButtonStyleModel",
          "model_module_version": "1.5.0",
          "state": {
            "_model_module": "@jupyter-widgets/controls",
            "_model_module_version": "1.5.0",
            "_model_name": "ButtonStyleModel",
            "_view_count": null,
            "_view_module": "@jupyter-widgets/base",
            "_view_module_version": "1.2.0",
            "_view_name": "StyleView",
            "button_color": null,
            "font_weight": ""
          }
        },
        "0fa50b0a63974d59b38435b1fb327b9b": {
          "model_module": "@jupyter-widgets/output",
          "model_name": "OutputModel",
          "model_module_version": "1.0.0",
          "state": {
            "_dom_classes": [],
            "_model_module": "@jupyter-widgets/output",
            "_model_module_version": "1.0.0",
            "_model_name": "OutputModel",
            "_view_count": null,
            "_view_module": "@jupyter-widgets/output",
            "_view_module_version": "1.0.0",
            "_view_name": "OutputView",
            "layout": "IPY_MODEL_76cd3cb63e3446a78532a07748ded902",
            "msg_id": "",
            "outputs": [
              {
                "output_type": "stream",
                "name": "stdout",
                "text": [
                  "One \n",
                  "Two\n",
                  "Three\n"
                ]
              }
            ]
          }
        },
        "76cd3cb63e3446a78532a07748ded902": {
          "model_module": "@jupyter-widgets/base",
          "model_name": "LayoutModel",
          "model_module_version": "1.2.0",
          "state": {
            "_model_module": "@jupyter-widgets/base",
            "_model_module_version": "1.2.0",
            "_model_name": "LayoutModel",
            "_view_count": null,
            "_view_module": "@jupyter-widgets/base",
            "_view_module_version": "1.2.0",
            "_view_name": "LayoutView",
            "align_content": null,
            "align_items": null,
            "align_self": null,
            "border": null,
            "bottom": null,
            "display": null,
            "flex": null,
            "flex_flow": null,
            "grid_area": null,
            "grid_auto_columns": null,
            "grid_auto_flow": null,
            "grid_auto_rows": null,
            "grid_column": null,
            "grid_gap": null,
            "grid_row": null,
            "grid_template_areas": null,
            "grid_template_columns": null,
            "grid_template_rows": null,
            "height": null,
            "justify_content": null,
            "justify_items": null,
            "left": null,
            "margin": null,
            "max_height": null,
            "max_width": null,
            "min_height": null,
            "min_width": null,
            "object_fit": null,
            "object_position": null,
            "order": null,
            "overflow": null,
            "overflow_x": null,
            "overflow_y": null,
            "padding": null,
            "right": null,
            "top": null,
            "visibility": null,
            "width": null
          }
        },
        "acd914d7c6c041deae2c408c01713a92": {
          "model_module": "@jupyter-widgets/controls",
          "model_name": "IntSliderModel",
          "model_module_version": "1.5.0",
          "state": {
            "_dom_classes": [],
            "_model_module": "@jupyter-widgets/controls",
            "_model_module_version": "1.5.0",
            "_model_name": "IntSliderModel",
            "_view_count": null,
            "_view_module": "@jupyter-widgets/controls",
            "_view_module_version": "1.5.0",
            "_view_name": "IntSliderView",
            "continuous_update": true,
            "description": "",
            "description_tooltip": null,
            "disabled": false,
            "layout": "IPY_MODEL_3d8a36ef4d2e43c09204535f0af1fc73",
            "max": 10,
            "min": 0,
            "orientation": "horizontal",
            "readout": true,
            "readout_format": "d",
            "step": 1,
            "style": "IPY_MODEL_3abb5df4ade848f5b9278e34c5bb81ba",
            "value": 1
          }
        },
        "3d8a36ef4d2e43c09204535f0af1fc73": {
          "model_module": "@jupyter-widgets/base",
          "model_name": "LayoutModel",
          "model_module_version": "1.2.0",
          "state": {
            "_model_module": "@jupyter-widgets/base",
            "_model_module_version": "1.2.0",
            "_model_name": "LayoutModel",
            "_view_count": null,
            "_view_module": "@jupyter-widgets/base",
            "_view_module_version": "1.2.0",
            "_view_name": "LayoutView",
            "align_content": null,
            "align_items": null,
            "align_self": null,
            "border": null,
            "bottom": null,
            "display": null,
            "flex": null,
            "flex_flow": null,
            "grid_area": null,
            "grid_auto_columns": null,
            "grid_auto_flow": null,
            "grid_auto_rows": null,
            "grid_column": null,
            "grid_gap": null,
            "grid_row": null,
            "grid_template_areas": null,
            "grid_template_columns": null,
            "grid_template_rows": null,
            "height": null,
            "justify_content": null,
            "justify_items": null,
            "left": null,
            "margin": null,
            "max_height": null,
            "max_width": null,
            "min_height": null,
            "min_width": null,
            "object_fit": null,
            "object_position": null,
            "order": null,
            "overflow": null,
            "overflow_x": null,
            "overflow_y": null,
            "padding": null,
            "right": null,
            "top": null,
            "visibility": null,
            "width": null
          }
        },
        "3abb5df4ade848f5b9278e34c5bb81ba": {
          "model_module": "@jupyter-widgets/controls",
          "model_name": "SliderStyleModel",
          "model_module_version": "1.5.0",
          "state": {
            "_model_module": "@jupyter-widgets/controls",
            "_model_module_version": "1.5.0",
            "_model_name": "SliderStyleModel",
            "_view_count": null,
            "_view_module": "@jupyter-widgets/base",
            "_view_module_version": "1.2.0",
            "_view_name": "StyleView",
            "description_width": "",
            "handle_color": null
          }
        }
      }
    }
  },
  "cells": [
    {
      "cell_type": "code",
      "source": [
        "print(\"hello world\")"
      ],
      "metadata": {
        "colab": {
          "base_uri": "https://localhost:8080/"
        },
        "id": "QNbOpOv4YcBg",
        "outputId": "5e57ddc6-e65f-44eb-8dda-506e6f77814a"
      },
      "execution_count": null,
      "outputs": [
        {
          "output_type": "stream",
          "name": "stdout",
          "text": [
            "hello world\n"
          ]
        }
      ]
    },
    {
      "cell_type": "code",
      "execution_count": null,
      "metadata": {
        "colab": {
          "base_uri": "https://localhost:8080/"
        },
        "id": "m92NMQfkWApL",
        "outputId": "0c1c660a-0b8f-4b1c-823b-2a6612cf5269"
      },
      "outputs": [
        {
          "output_type": "stream",
          "name": "stdout",
          "text": [
            "Wed May 29 08:00:49 2024\n"
          ]
        }
      ],
      "source": [
        "import time\n",
        "print(time.ctime())\n"
      ]
    },
    {
      "cell_type": "code",
      "source": [
        "!pip install numpy"
      ],
      "metadata": {
        "colab": {
          "base_uri": "https://localhost:8080/"
        },
        "id": "swjxfDpxYiUV",
        "outputId": "9048dab5-88b9-49a5-e48b-6bd2fad35424"
      },
      "execution_count": null,
      "outputs": [
        {
          "output_type": "stream",
          "name": "stdout",
          "text": [
            "Requirement already satisfied: numpy in /usr/local/lib/python3.10/dist-packages (1.25.2)\n"
          ]
        }
      ]
    },
    {
      "cell_type": "code",
      "source": [
        "from google.colab import drive\n",
        "drive.mount('/content/drive')\n"
      ],
      "metadata": {
        "colab": {
          "base_uri": "https://localhost:8080/"
        },
        "id": "87At9klgY_NR",
        "outputId": "63f44bec-d1ca-4ac4-ddd0-6b69d9d98259"
      },
      "execution_count": null,
      "outputs": [
        {
          "output_type": "stream",
          "name": "stdout",
          "text": [
            "Mounted at /content/drive\n"
          ]
        }
      ]
    },
    {
      "cell_type": "code",
      "source": [
        "#@title Default title text\n",
        "%%html\n",
        "<style>\n",
        "body {\n",
        "  background-color: #f2bcca;\n",
        "}\n",
        "</style>\n",
        "color = 'green' #@param [\"red\", \"green\", \"blue\"] print(color)\n",
        "<svg xmlns=\"https://www.w3.org/2000/svg\" viewBox=\"0 0 600 400\" width=\"400\" height=\"400\">\n",
        "   <rect x=\"10\" y=\"00\" width=\"300\" height=\"100\" rx=\"0\" style=\"fill:orange; stroke:black; fill-opacity:1.0\" />\n",
        "   <rect x=\"10\" y=\"100\" width=\"300\" height=\"100\" rx=\"0\" style=\"fill:white; stroke:black; fill-opacity:1.0;\" />\n",
        "   <rect x=\"10\" y=\"200\" width=\"300\" height=\"100\" rx=\"0\" style=\"fill:green; stroke:black; fill-opacity:1.0;\" />\n",
        "</svg>\n"
      ],
      "metadata": {
        "colab": {
          "base_uri": "https://localhost:8080/",
          "height": 34
        },
        "id": "P9usmODKZYPh",
        "outputId": "447ba459-8f84-49ef-c710-0abf421366bc"
      },
      "execution_count": null,
      "outputs": [
        {
          "output_type": "display_data",
          "data": {
            "text/plain": [
              "<IPython.core.display.HTML object>"
            ],
            "text/html": [
              "<style>\n",
              "body {\n",
              "  background-color: #f2bcca;\n",
              "}\n",
              "</style>\n",
              "color = 'green' #@param [\"red\", \"green\", \"blue\"] print(color) \n",
              "<svg xmlns=\"https://www.w3.org/2000/svg\" viewBox=\"0 0 600 400\" width=\"400\" height=\"400\">\n",
              "   <rect x=\"10\" y=\"00\" width=\"300\" height=\"100\" rx=\"0\" style=\"fill:orange; stroke:black; fill-opacity:1.0\" />\n",
              "   <rect x=\"10\" y=\"100\" width=\"300\" height=\"100\" rx=\"0\" style=\"fill:white; stroke:black; fill-opacity:1.0;\" />\n",
              "   <rect x=\"10\" y=\"200\" width=\"300\" height=\"100\" rx=\"0\" style=\"fill:green; stroke:black; fill-opacity:1.0;\" />\n",
              "</svg>\n"
            ]
          },
          "metadata": {}
        }
      ]
    },
    {
      "cell_type": "code",
      "source": [
        "!ls \"/content/drive/My Drive\""
      ],
      "metadata": {
        "colab": {
          "base_uri": "https://localhost:8080/"
        },
        "id": "K_mZjcXEcjua",
        "outputId": "4fe3415d-e692-4401-ca07-9d6d69df1eb8",
        "collapsed": true
      },
      "execution_count": null,
      "outputs": [
        {
          "output_type": "stream",
          "name": "stdout",
          "text": [
            " 1.txt\n",
            " 2.JPG\n",
            "'Colab Notebooks'\n",
            " DSCN8134.JPG\n",
            " DSCN8136.JPG\n",
            " DSCN8417.JPG\n",
            " DSCN8419.JPG\n",
            " DSCN8422.JPG\n",
            " DSCN8424.JPG\n",
            " DSCN8426.JPG\n",
            " DSCN8428.JPG\n",
            " DSCN8430.JPG\n",
            " DSCN8432.JPG\n",
            " DSCN8434.JPG\n",
            " DSCN8436.JPG\n",
            " DSCN8437.JPG\n",
            " DSCN8438.JPG\n",
            " DSCN8440.JPG\n",
            " DSCN8441.JPG\n",
            " DSCN8442.JPG\n",
            " DSCN8443.JPG\n",
            " DSCN8444.JPG\n",
            " DSCN8447.JPG\n",
            " DSCN8448.JPG\n",
            " DSCN8450.JPG\n",
            " DSCN8452.JPG\n",
            " DSCN8453.JPG\n",
            " DSCN8454.JPG\n",
            " DSCN8458.JPG\n",
            " DSCN8459.JPG\n",
            " DSCN8460.JPG\n",
            " DSCN8461.JPG\n",
            " DSCN8462.JPG\n",
            " DSCN8468.JPG\n",
            " DSCN8470.JPG\n",
            " DSCN8471.JPG\n",
            " DSCN8472.JPG\n",
            " DSCN8473.JPG\n",
            " DSCN8474.JPG\n",
            " DSCN8475.JPG\n",
            " DSCN8476.JPG\n",
            " DSCN8477.JPG\n",
            " DSCN8478.JPG\n",
            " DSCN8479.JPG\n",
            " DSCN8480.JPG\n",
            " DSCN8482.JPG\n",
            " DSCN8483.JPG\n",
            " DSCN8484.JPG\n",
            " DSCN8485.JPG\n",
            " DSCN8490.JPG\n",
            " DSCN8492.JPG\n",
            " DSCN8493.JPG\n",
            " DSCN8494.JPG\n",
            " DSCN8495.JPG\n",
            " DSCN8496.JPG\n",
            " DSCN8497.JPG\n",
            " DSCN8499.JPG\n",
            " DSCN8504.JPG\n",
            " DSCN8505.JPG\n",
            " DSCN8506.JPG\n",
            " DSCN8508.JPG\n",
            " DSCN8509.JPG\n",
            " DSCN8511.JPG\n",
            " DSCN8512.JPG\n",
            " DSCN8518.JPG\n",
            " DSCN8519.JPG\n",
            " DSCN8520.JPG\n",
            " DSCN8521.JPG\n",
            " DSCN8522.JPG\n",
            " DSCN8527.JPG\n",
            " DSCN8528.JPG\n",
            " DSCN8529.JPG\n",
            " DSCN8530.JPG\n",
            " DSCN8531.JPG\n",
            " DSCN8532.JPG\n",
            " DSCN8533.JPG\n",
            " DSCN8534.JPG\n",
            " DSCN8535.JPG\n",
            " DSCN8536.JPG\n",
            " DSCN8537.JPG\n",
            " DSCN8542.JPG\n",
            " DSCN8543.JPG\n",
            " DSCN8544.JPG\n",
            " DSCN8546.JPG\n",
            " DSCN8547.JPG\n",
            " DSCN8548.JPG\n",
            " DSCN8549.JPG\n",
            " DSCN8550.JPG\n",
            " DSCN8551.JPG\n",
            " DSCN8552.JPG\n",
            " DSCN8560.JPG\n",
            "'DSCN8560 - עותק.JPG'\n",
            " DSCN8561.JPG\n",
            " DSCN8562.JPG\n",
            " DSCN8563.JPG\n",
            " DSCN8564.JPG\n",
            " DSCN8565.JPG\n",
            " DSCN8567.JPG\n",
            " DSCN8569.JPG\n",
            " DSCN8570.JPG\n",
            " DSCN8572.JPG\n",
            " DSCN8573.JPG\n",
            " DSCN8574.JPG\n",
            " DSCN8575.JPG\n",
            " DSCN8576.JPG\n",
            " DSCN8577.JPG\n",
            " DSCN8578.JPG\n",
            " DSCN8579.JPG\n",
            " DSCN8580.JPG\n",
            " DSCN8581.JPG\n",
            " DSCN8582.JPG\n",
            " email_attachment_1.pdf\n",
            " example.txt\n",
            " IMG-20190821-WA0006.jpg\n",
            " IMG-20191108-WA0017.jpg\n",
            " Notes_190528_140933_336.pdf\n",
            " s1.json\n",
            " students1.gdoc\n",
            " students.jason.txt\n",
            " students.json\n",
            " tut1_folder\n",
            "'אריה יפה (1).gslides'\n",
            "'אריה יפה.gslides'\n",
            "'ווי ווי.gslides'\n",
            "'חיות מחמד.gsheet'\n",
            "'חיות מחמד [טופס].gform'\n",
            "'יוון העתיקה.gdoc'\n",
            "'יומן חקר תשעד דניאל ב, ליאור, נטלי, אפי ולוקה.gdoc'\n",
            "\"יומן חקר תשע''ד מגישים : דניאל ברקוביץ ליאור דובינסקי נטלי קרול אפי נמוי לוקה סג'יאומו בהנחיית ענבר טורג'מן.gdoc\"\n",
            "'מלחמת יום הכיפורים.gdoc'\n",
            "'מסמך ללא כותרת (1).gdoc'\n",
            "'מסמך ללא כותרת (2).gdoc'\n",
            "'מסמך ללא כותרת (3).gdoc'\n",
            "'מסמך ללא כותרת.gdoc'\n",
            "'תיקיה ללא שם'\n"
          ]
        }
      ]
    },
    {
      "cell_type": "code",
      "source": [
        "# @title Form\n",
        "sleeptime = 2 # @param {type:\"integer\"}\n"
      ],
      "metadata": {
        "id": "r-9u715JQ97H"
      },
      "execution_count": null,
      "outputs": []
    },
    {
      "cell_type": "code",
      "source": [
        "import time\n",
        "print(time.ctime())\n",
        "time.sleep(sleeptime)\n",
        "print (time.ctime())"
      ],
      "metadata": {
        "colab": {
          "base_uri": "https://localhost:8080/"
        },
        "id": "Hzs4-5P8Teun",
        "outputId": "242ff55a-e55d-49c8-fab3-d479b46e9b89"
      },
      "execution_count": null,
      "outputs": [
        {
          "output_type": "stream",
          "name": "stdout",
          "text": [
            "Mon Jun  3 18:14:23 2024\n",
            "Mon Jun  3 18:14:25 2024\n"
          ]
        }
      ]
    },
    {
      "cell_type": "code",
      "source": [
        "name = \"Cloud course\" #@param {type:\"string\"}\n",
        "print(name)\n"
      ],
      "metadata": {
        "colab": {
          "base_uri": "https://localhost:8080/"
        },
        "id": "S27V31BPVZPI",
        "outputId": "383bf898-01b0-4100-fd1b-6adc8fb2732b"
      },
      "execution_count": null,
      "outputs": [
        {
          "output_type": "stream",
          "name": "stdout",
          "text": [
            "Cloud course\n"
          ]
        }
      ]
    },
    {
      "cell_type": "code",
      "source": [
        "color = 'green' #@param [\"red\", \"green\", \"blue\"]\n",
        "print(color)"
      ],
      "metadata": {
        "colab": {
          "base_uri": "https://localhost:8080/"
        },
        "id": "acgqLx-3WJlA",
        "outputId": "81576749-b54b-4eb6-a9b1-7e30f47fb4bf"
      },
      "execution_count": null,
      "outputs": [
        {
          "output_type": "stream",
          "name": "stdout",
          "text": [
            "green\n"
          ]
        }
      ]
    },
    {
      "cell_type": "code",
      "source": [
        "#@title Date fields\n",
        "date_input = '2019-06-03' #@param {type:\"date\"}\n",
        "print(date_input)"
      ],
      "metadata": {
        "colab": {
          "base_uri": "https://localhost:8080/"
        },
        "id": "-IkBFjLDYG8X",
        "outputId": "c56c48a5-9461-497e-f171-c83ee7318abd"
      },
      "execution_count": null,
      "outputs": [
        {
          "output_type": "stream",
          "name": "stdout",
          "text": [
            "2019-06-03\n"
          ]
        }
      ]
    },
    {
      "cell_type": "code",
      "source": [
        "Form = \"\" # @param {type:\"string\"}\n",
        "import numpy as np\n",
        "from matplotlib import pyplot as plt\n",
        "\n",
        "y = np.random.randn(100)\n",
        "x = [x for x in range(len(y))]\n",
        "\n",
        "plt.plot(x, y, '-')\n",
        "plt.fill_between(x, y, 200, where = (y > 195), facecolor='g', alpha=0.6)\n",
        "\n",
        "plt.title(\"Sample Plot\")\n",
        "plt.show()\n",
        "\n"
      ],
      "metadata": {
        "colab": {
          "base_uri": "https://localhost:8080/",
          "height": 452
        },
        "id": "6h2LwHe3atgJ",
        "outputId": "7d3c700c-9956-4c6f-a5cb-47759ab29ac2"
      },
      "execution_count": null,
      "outputs": [
        {
          "output_type": "display_data",
          "data": {
            "text/plain": [
              "<Figure size 640x480 with 1 Axes>"
            ],
            "image/png": "[encoded data removed]"
          },
          "metadata": {}
        }
      ]
    },
    {
      "cell_type": "code",
      "source": [
        "with open('1.txt', 'r') as file:\n",
        "    contents = file.readlines()\n",
        "    print(contents)\n",
        "file.close()"
      ],
      "metadata": {
        "colab": {
          "base_uri": "https://localhost:8080/"
        },
        "id": "m7YWEC6G9jmy",
        "outputId": "c50d832b-42dd-4c31-93e6-85981a78f053"
      },
      "execution_count": null,
      "outputs": [
        {
          "output_type": "stream",
          "name": "stdout",
          "text": [
            "['One \\n', 'Two\\n', 'Three']\n"
          ]
        }
      ]
    },
    {
      "cell_type": "code",
      "source": [
        "with open('/content/drive/My Drive/example.txt', 'w') as file:\n",
        "    file.write('This is some example text.')"
      ],
      "metadata": {
        "id": "78FlONIo_75R"
      },
      "execution_count": null,
      "outputs": []
    },
    {
      "cell_type": "code",
      "source": [
        "with open('/content/drive/My Drive/example.txt', 'a') as file:\n",
        "  file.write('\\nThis is some more example text.')"
      ],
      "metadata": {
        "id": "HyZBQfigB4CV"
      },
      "execution_count": null,
      "outputs": []
    },
    {
      "cell_type": "code",
      "source": [
        "with open('example.txt', 'r') as file:\n",
        "    contents = file.read()\n",
        "    print(contents)\n",
        "file.close()"
      ],
      "metadata": {
        "colab": {
          "base_uri": "https://localhost:8080/"
        },
        "id": "DIaxX-ODCPyV",
        "outputId": "ac0d48b1-d310-4781-8003-9dac47b2086d"
      },
      "execution_count": null,
      "outputs": [
        {
          "output_type": "stream",
          "name": "stdout",
          "text": [
            "This is some example text.\n",
            "This is some more example text.\n"
          ]
        }
      ]
    },
    {
      "cell_type": "code",
      "source": [
        "import ipywidgets as widgets\n",
        "from IPython.display import display\n",
        "button = widgets.Button(description=\"Click Me!\")\n",
        "output = widgets.Output()\n",
        "def on_button_clicked(b):\n",
        "  # Display the message within the output widget.\n",
        "  with output:\n",
        "    with open('/content/drive/My Drive/1.txt', 'r') as file:\n",
        "      contents = file.read()\n",
        "      print(contents)\n",
        "button.on_click(on_button_clicked)\n",
        "display(button, output)\n"
      ],
      "metadata": {
        "colab": {
          "base_uri": "https://localhost:8080/",
          "height": 103,
          "referenced_widgets": [
            "6d4973c2c41a423292f14f5f859d6217",
            "f40ff88eb5ab4a55b98e66a216f6255c",
            "2b00f02d65dd47cf823309f3825af811",
            "0fa50b0a63974d59b38435b1fb327b9b",
            "76cd3cb63e3446a78532a07748ded902"
          ]
        },
        "id": "rkxdQt6pDMf9",
        "outputId": "914173df-59de-44b2-b831-3306a0b24e65"
      },
      "execution_count": null,
      "outputs": [
        {
          "output_type": "display_data",
          "data": {
            "text/plain": [
              "Button(description='Click\\xa0Me!', style=ButtonStyle())"
            ],
            "application/vnd.jupyter.widget-view+json": {
              "version_major": 2,
              "version_minor": 0,
              "model_id": "6d4973c2c41a423292f14f5f859d6217"
            }
          },
          "metadata": {}
        },
        {
          "output_type": "display_data",
          "data": {
            "text/plain": [
              "Output()"
            ],
            "application/vnd.jupyter.widget-view+json": {
              "version_major": 2,
              "version_minor": 0,
              "model_id": "0fa50b0a63974d59b38435b1fb327b9b"
            }
          },
          "metadata": {}
        }
      ]
    },
    {
      "cell_type": "code",
      "source": [
        "import ipywidgets as widgets\n",
        "slider = widgets.IntSlider(value=5, max=10)\n",
        "display(slider)"
      ],
      "metadata": {
        "colab": {
          "base_uri": "https://localhost:8080/",
          "height": 49,
          "referenced_widgets": [
            "acd914d7c6c041deae2c408c01713a92",
            "3d8a36ef4d2e43c09204535f0af1fc73",
            "3abb5df4ade848f5b9278e34c5bb81ba"
          ]
        },
        "id": "2ZNxckbrEIXc",
        "outputId": "a111a11d-57d7-4d7f-cb22-11ccfa3b90b9"
      },
      "execution_count": null,
      "outputs": [
        {
          "output_type": "display_data",
          "data": {
            "text/plain": [
              "IntSlider(value=5, max=10)"
            ],
            "application/vnd.jupyter.widget-view+json": {
              "version_major": 2,
              "version_minor": 0,
              "model_id": "acd914d7c6c041deae2c408c01713a92"
            }
          },
          "metadata": {}
        }
      ]
    }
  ]
}